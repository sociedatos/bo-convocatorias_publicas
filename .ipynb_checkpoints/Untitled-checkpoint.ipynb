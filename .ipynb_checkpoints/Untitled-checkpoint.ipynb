{
 "cells": [
  {
   "cell_type": "code",
   "execution_count": 7,
   "id": "49f0c66b-99a1-4543-b884-9df38b28a56a",
   "metadata": {},
   "outputs": [],
   "source": [
    "import requests\n",
    "from requests.adapters import HTTPAdapter\n",
    "from requests.packages.urllib3.util.ssl_ import create_urllib3_context\n",
    "import urllib3\n",
    "from bs4 import BeautifulSoup\n",
    "import pandas as pd\n",
    "import datetime as dt\n",
    "import os\n",
    "import argparse\n",
    "import re\n",
    "import sys"
   ]
  },
  {
   "cell_type": "code",
   "execution_count": 8,
   "id": "357d6214-0b34-487a-8596-0c41ff479ea8",
   "metadata": {},
   "outputs": [],
   "source": [
    "REINTENTOS = 20\n",
    "TIMEOUT = 30\n",
    "BASE_URL = \"https://www.sicoes.gob.bo/portal\"\n",
    "SICOES_CIPHERS = \"AES256-SHA\""
   ]
  },
  {
   "cell_type": "code",
   "execution_count": 9,
   "id": "3b5d5b83-5604-409d-99a6-a9c40e9c26cf",
   "metadata": {},
   "outputs": [],
   "source": [
    "def iniciarSesion(conexion: requests.sessions.Session, headers: dict, data: dict):\n",
    "    \"\"\"Una consulta para comenzar o reiniciar el intercambio con SICOES\"\"\"\n",
    "    respuesta = conexion.get(\n",
    "        BASE_URL + \"/contrataciones/busqueda/convocatorias.php?tipo=convNacional\",\n",
    "        headers=headers,\n",
    "        timeout=TIMEOUT,\n",
    "        verify=False,\n",
    "    )\n",
    "    return mantenerSesion(data, respuesta)\n",
    "\n",
    "\n",
    "def mantenerSesion(data: dict, response: requests.models.Response):\n",
    "    \"\"\"Actualiza los parámetros que mantienen una sesión\"\"\"\n",
    "    parametros_sesion = [\"B903A6B7\", \"varSesionCli\"]\n",
    "\n",
    "    html = BeautifulSoup(response.text, \"html.parser\")\n",
    "\n",
    "    for parametro in parametros_sesion:\n",
    "        valor = html.select(f\"input[name={parametro}]\")\n",
    "        if len(valor) > 0:\n",
    "            data[parametro] = valor[0][\"value\"]\n",
    "\n",
    "    return data"
   ]
  },
  {
   "cell_type": "code",
   "execution_count": 10,
   "id": "907983fc-6107-4f56-8122-81d3476f66f8",
   "metadata": {},
   "outputs": [],
   "source": [
    "def iniciarDescarga():\n",
    "    \"\"\"\n",
    "    Pasos antes de descargar datos de convocatorias:\n",
    "    - Crea una conexión para reutilizar en cada consulta.\n",
    "    - Define un estado inicial para headers y datos de consulta.\n",
    "    - Define el día de consulta desde el argumento --dia o , por defecto, el día de ayer.\n",
    "    Retorna estos valores para futuras consultas y procesos.\n",
    "    \"\"\"\n",
    "\n",
    "    class adaptadorSicoes(HTTPAdapter):\n",
    "        \"\"\"\n",
    "        Un adaptador para realizar consultas con el cipher anticuado que utiliza SICOES.\n",
    "        \"\"\"\n",
    "\n",
    "        def __init__(self, *args, **kwargs):\n",
    "            self.ssl_context = create_urllib3_context(ciphers=SICOES_CIPHERS)\n",
    "            self.ssl_context.check_hostname = False\n",
    "            super().__init__(*args, **kwargs)\n",
    "\n",
    "        def _add_ssl_context(self, *args, **kwargs):\n",
    "            kwargs[\"ssl_context\"] = self.ssl_context\n",
    "            return super().init_poolmanager(*args, **kwargs)\n",
    "\n",
    "        init_poolmanager = _add_ssl_context\n",
    "        proxy_manager_for = _add_ssl_context\n",
    "\n",
    "    def dataInicial():\n",
    "        \"\"\"\n",
    "        Valores iniciales para datos de consulta.\n",
    "        \"\"\"\n",
    "\n",
    "        return {\n",
    "            \"entidad\": \"\",\n",
    "            \"codigoDpto\": \"\",\n",
    "            \"cuce1\": \"\",\n",
    "            \"cuce2\": \"\",\n",
    "            \"cuce3\": \"\",\n",
    "            \"cuce4\": \"\",\n",
    "            \"cuce5\": \"\",\n",
    "            \"cuce6\": \"\",\n",
    "            \"objetoContrato\": \"\",\n",
    "            \"codigoModalidad\": \"\",\n",
    "            \"r1\": \"\",\n",
    "            \"codigoContrato\": \"\",\n",
    "            \"nroContrato\": \"\",\n",
    "            \"codigoNormativa\": \"\",\n",
    "            \"montoDesde\": \"\",\n",
    "            \"montoHasta\": \"\",\n",
    "            \"publicacionDesde\": \"\",\n",
    "            \"publicacionHasta\": \"\",\n",
    "            \"presentacionPropuestasDesde\": \"\",\n",
    "            \"presentacionPropuestasHasta\": \"\",\n",
    "            \"desiertaDesde\": \"\",\n",
    "            \"desiertaHasta\": \"\",\n",
    "            \"subasta\": \"\",\n",
    "            \"personaContDespliegue\": \"on\",\n",
    "            \"nomtoGarDespliegue\": \"option2\",\n",
    "            \"costoPlieDespliegue\": \"option3\",\n",
    "            \"arpcDespliegue\": \"option3\",\n",
    "            \"fechaReunionDespliegue\": \"option1\",\n",
    "            \"fechaAdjudicacionDespliegue\": \"option2\",\n",
    "            \"dptoDespliegue\": \"option3\",\n",
    "            \"normativaDespliegue\": \"option3\",\n",
    "            \"tipo\": \"Avanzada\",\n",
    "            \"operacion\": \"convNacional\",\n",
    "            \"autocorrector\": \"\",\n",
    "            \"nroRegistros\": \"10\",\n",
    "            \"draw\": \"1\",\n",
    "            \"start\": \"0\",\n",
    "            \"length\": \"10\",\n",
    "            \"captcha\": \"\",\n",
    "        }\n",
    "\n",
    "    def headersIniciales():\n",
    "        \"\"\"Valores iniciales para headers de consulta.\"\"\"\n",
    "        return {\n",
    "            \"User-Agent\": \"Mozilla/5.0 (X11; Linux x86_64) AppleWebKit/537.36 (KHTML, like Gecko)\",\n",
    "            \"Referer\": \"https://www.sicoes.gob.bo/portal/index.php\",\n",
    "        }\n",
    "\n",
    "    def diaConsulta(data):\n",
    "        \"\"\"\n",
    "        Define el día de consulta desde el argumento --dia o, por defecto, el día de ayer.\n",
    "        \"\"\"\n",
    "\n",
    "        parametros_fecha = [\"publicacionDesde\", \"publicacionHasta\"]\n",
    "\n",
    "        # parser = argparse.ArgumentParser()\n",
    "        # parser.add_argument(\n",
    "        #     \"--dia\", required=False, type=str, help=\"Fecha de Publicación\"\n",
    "        # )\n",
    "        # args = parser.parse_args()\n",
    "\n",
    "        # if args.dia:\n",
    "        #     dia = dt.datetime.strptime(args.dia, \"%Y-%m-%d\")\n",
    "        # else:\n",
    "        dia = dt.datetime.now() - dt.timedelta(days=1)\n",
    "\n",
    "        for parametro in parametros_fecha:\n",
    "            data[parametro] = dia.strftime(\"%d/%m/%Y\")\n",
    "\n",
    "        print(f\"Convocatorias para el {dia.strftime(\"%Y-%m-%d\")}\")\n",
    "\n",
    "        return dia, data\n",
    "\n",
    "    # Utiliza el adaptador de SICOES en todas las consultas de red\n",
    "    # y deshabilita advertencias para hacer consultas no cifradas.\n",
    "    conexion = requests.Session()\n",
    "    conexion.mount(\"http://\", adaptadorSicoes(max_retries=REINTENTOS))\n",
    "    conexion.mount(\"https://\", adaptadorSicoes(max_retries=REINTENTOS))\n",
    "    urllib3.disable_warnings()\n",
    "\n",
    "    # Inicializa headers y datos de consulta.\n",
    "    headers = headersIniciales()\n",
    "    data = dataInicial()\n",
    "\n",
    "    # Inicializa la sesión en SICOES.\n",
    "    data = iniciarSesion(conexion, headers, data)\n",
    "\n",
    "    # Define el día de consulta.\n",
    "    dia, data = diaConsulta(data)\n",
    "\n",
    "    # Retorna estos valores para futuras consultas y procesos.\n",
    "    return conexion, headers, data, dia"
   ]
  },
  {
   "cell_type": "code",
   "execution_count": 14,
   "id": "2472049d-6f41-45ba-acae-f62f1871ad13",
   "metadata": {},
   "outputs": [
    {
     "name": "stderr",
     "output_type": "stream",
     "text": [
      "usage: ipykernel_launcher.py [-h] [--dia DIA]\n",
      "ipykernel_launcher.py: error: unrecognized arguments: -f /home/m/.local/share/jupyter/runtime/kernel-59331a05-4780-4b77-9608-8571115dff50.json\n"
     ]
    },
    {
     "ename": "SystemExit",
     "evalue": "2",
     "output_type": "error",
     "traceback": [
      "An exception has occurred, use %tb to see the full traceback.\n",
      "\u001b[0;31mSystemExit\u001b[0m\u001b[0;31m:\u001b[0m 2\n"
     ]
    },
    {
     "name": "stderr",
     "output_type": "stream",
     "text": [
      "/home/m/.virtualenvs/play/lib/python3.12/site-packages/IPython/core/interactiveshell.py:3585: UserWarning: To exit: use 'exit', 'quit', or Ctrl-D.\n",
      "  warn(\"To exit: use 'exit', 'quit', or Ctrl-D.\", stacklevel=1)\n"
     ]
    }
   ],
   "source": [
    "conexion, headers, data, dia = iniciarDescarga()"
   ]
  },
  {
   "cell_type": "code",
   "execution_count": 15,
   "id": "38e869cc-7d0e-4374-a617-37868e16b597",
   "metadata": {},
   "outputs": [
    {
     "ename": "SystemExit",
     "evalue": "2",
     "output_type": "error",
     "traceback": [
      "\u001b[0;31m---------------------------------------------------------------------------\u001b[0m",
      "\u001b[0;31mSystemExit\u001b[0m                                Traceback (most recent call last)",
      "Cell \u001b[0;32mIn[14], line 1\u001b[0m\n\u001b[0;32m----> 1\u001b[0m conexion, headers, data, dia \u001b[38;5;241m=\u001b[39m \u001b[43miniciarDescarga\u001b[49m\u001b[43m(\u001b[49m\u001b[43m)\u001b[49m\n",
      "Cell \u001b[0;32mIn[10], line 121\u001b[0m, in \u001b[0;36miniciarDescarga\u001b[0;34m()\u001b[0m\n\u001b[1;32m    118\u001b[0m data \u001b[38;5;241m=\u001b[39m iniciarSesion(conexion, headers, data)\n\u001b[1;32m    120\u001b[0m \u001b[38;5;66;03m# Define el día de consulta.\u001b[39;00m\n\u001b[0;32m--> 121\u001b[0m dia, data \u001b[38;5;241m=\u001b[39m \u001b[43mdiaConsulta\u001b[49m\u001b[43m(\u001b[49m\u001b[43mdata\u001b[49m\u001b[43m)\u001b[49m\n\u001b[1;32m    123\u001b[0m \u001b[38;5;66;03m# Retorna estos valores para futuras consultas y procesos.\u001b[39;00m\n\u001b[1;32m    124\u001b[0m \u001b[38;5;28;01mreturn\u001b[39;00m conexion, headers, data, dia\n",
      "Cell \u001b[0;32mIn[10], line 92\u001b[0m, in \u001b[0;36miniciarDescarga.<locals>.diaConsulta\u001b[0;34m(data)\u001b[0m\n\u001b[1;32m     88\u001b[0m parser \u001b[38;5;241m=\u001b[39m argparse\u001b[38;5;241m.\u001b[39mArgumentParser()\n\u001b[1;32m     89\u001b[0m parser\u001b[38;5;241m.\u001b[39madd_argument(\n\u001b[1;32m     90\u001b[0m     \u001b[38;5;124m\"\u001b[39m\u001b[38;5;124m--dia\u001b[39m\u001b[38;5;124m\"\u001b[39m, required\u001b[38;5;241m=\u001b[39m\u001b[38;5;28;01mFalse\u001b[39;00m, \u001b[38;5;28mtype\u001b[39m\u001b[38;5;241m=\u001b[39m\u001b[38;5;28mstr\u001b[39m, help\u001b[38;5;241m=\u001b[39m\u001b[38;5;124m\"\u001b[39m\u001b[38;5;124mFecha de Publicación\u001b[39m\u001b[38;5;124m\"\u001b[39m\n\u001b[1;32m     91\u001b[0m )\n\u001b[0;32m---> 92\u001b[0m args \u001b[38;5;241m=\u001b[39m \u001b[43mparser\u001b[49m\u001b[38;5;241;43m.\u001b[39;49m\u001b[43mparse_args\u001b[49m\u001b[43m(\u001b[49m\u001b[43m)\u001b[49m\n\u001b[1;32m     94\u001b[0m \u001b[38;5;28;01mif\u001b[39;00m args\u001b[38;5;241m.\u001b[39mdia:\n\u001b[1;32m     95\u001b[0m     dia \u001b[38;5;241m=\u001b[39m dt\u001b[38;5;241m.\u001b[39mdatetime\u001b[38;5;241m.\u001b[39mstrptime(args\u001b[38;5;241m.\u001b[39mdia, \u001b[38;5;124m\"\u001b[39m\u001b[38;5;124m%\u001b[39m\u001b[38;5;124mY-\u001b[39m\u001b[38;5;124m%\u001b[39m\u001b[38;5;124mm-\u001b[39m\u001b[38;5;132;01m%d\u001b[39;00m\u001b[38;5;124m\"\u001b[39m)\n",
      "File \u001b[0;32m/usr/lib/python3.12/argparse.py:1899\u001b[0m, in \u001b[0;36mArgumentParser.parse_args\u001b[0;34m(self, args, namespace)\u001b[0m\n\u001b[1;32m   1897\u001b[0m \u001b[38;5;28;01mif\u001b[39;00m argv:\n\u001b[1;32m   1898\u001b[0m     msg \u001b[38;5;241m=\u001b[39m _(\u001b[38;5;124m'\u001b[39m\u001b[38;5;124munrecognized arguments: \u001b[39m\u001b[38;5;132;01m%s\u001b[39;00m\u001b[38;5;124m'\u001b[39m)\n\u001b[0;32m-> 1899\u001b[0m     \u001b[38;5;28;43mself\u001b[39;49m\u001b[38;5;241;43m.\u001b[39;49m\u001b[43merror\u001b[49m\u001b[43m(\u001b[49m\u001b[43mmsg\u001b[49m\u001b[43m \u001b[49m\u001b[38;5;241;43m%\u001b[39;49m\u001b[43m \u001b[49m\u001b[38;5;124;43m'\u001b[39;49m\u001b[38;5;124;43m \u001b[39;49m\u001b[38;5;124;43m'\u001b[39;49m\u001b[38;5;241;43m.\u001b[39;49m\u001b[43mjoin\u001b[49m\u001b[43m(\u001b[49m\u001b[43margv\u001b[49m\u001b[43m)\u001b[49m\u001b[43m)\u001b[49m\n\u001b[1;32m   1900\u001b[0m \u001b[38;5;28;01mreturn\u001b[39;00m args\n",
      "File \u001b[0;32m/usr/lib/python3.12/argparse.py:2665\u001b[0m, in \u001b[0;36mArgumentParser.error\u001b[0;34m(self, message)\u001b[0m\n\u001b[1;32m   2663\u001b[0m \u001b[38;5;28mself\u001b[39m\u001b[38;5;241m.\u001b[39mprint_usage(_sys\u001b[38;5;241m.\u001b[39mstderr)\n\u001b[1;32m   2664\u001b[0m args \u001b[38;5;241m=\u001b[39m {\u001b[38;5;124m'\u001b[39m\u001b[38;5;124mprog\u001b[39m\u001b[38;5;124m'\u001b[39m: \u001b[38;5;28mself\u001b[39m\u001b[38;5;241m.\u001b[39mprog, \u001b[38;5;124m'\u001b[39m\u001b[38;5;124mmessage\u001b[39m\u001b[38;5;124m'\u001b[39m: message}\n\u001b[0;32m-> 2665\u001b[0m \u001b[38;5;28;43mself\u001b[39;49m\u001b[38;5;241;43m.\u001b[39;49m\u001b[43mexit\u001b[49m\u001b[43m(\u001b[49m\u001b[38;5;241;43m2\u001b[39;49m\u001b[43m,\u001b[49m\u001b[43m \u001b[49m\u001b[43m_\u001b[49m\u001b[43m(\u001b[49m\u001b[38;5;124;43m'\u001b[39;49m\u001b[38;5;132;43;01m%(prog)s\u001b[39;49;00m\u001b[38;5;124;43m: error: \u001b[39;49m\u001b[38;5;132;43;01m%(message)s\u001b[39;49;00m\u001b[38;5;130;43;01m\\n\u001b[39;49;00m\u001b[38;5;124;43m'\u001b[39;49m\u001b[43m)\u001b[49m\u001b[43m \u001b[49m\u001b[38;5;241;43m%\u001b[39;49m\u001b[43m \u001b[49m\u001b[43margs\u001b[49m\u001b[43m)\u001b[49m\n",
      "File \u001b[0;32m/usr/lib/python3.12/argparse.py:2652\u001b[0m, in \u001b[0;36mArgumentParser.exit\u001b[0;34m(self, status, message)\u001b[0m\n\u001b[1;32m   2650\u001b[0m \u001b[38;5;28;01mif\u001b[39;00m message:\n\u001b[1;32m   2651\u001b[0m     \u001b[38;5;28mself\u001b[39m\u001b[38;5;241m.\u001b[39m_print_message(message, _sys\u001b[38;5;241m.\u001b[39mstderr)\n\u001b[0;32m-> 2652\u001b[0m \u001b[43m_sys\u001b[49m\u001b[38;5;241;43m.\u001b[39;49m\u001b[43mexit\u001b[49m\u001b[43m(\u001b[49m\u001b[43mstatus\u001b[49m\u001b[43m)\u001b[49m\n",
      "\u001b[0;31mSystemExit\u001b[0m: 2"
     ]
    }
   ],
   "source": [
    "%tb"
   ]
  }
 ],
 "metadata": {
  "kernelspec": {
   "display_name": "Play",
   "language": "python",
   "name": "play"
  },
  "language_info": {
   "codemirror_mode": {
    "name": "ipython",
    "version": 3
   },
   "file_extension": ".py",
   "mimetype": "text/x-python",
   "name": "python",
   "nbconvert_exporter": "python",
   "pygments_lexer": "ipython3",
   "version": "3.12.3"
  }
 },
 "nbformat": 4,
 "nbformat_minor": 5
}
